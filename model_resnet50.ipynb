{
 "cells": [
  {
   "cell_type": "code",
   "execution_count": 2,
   "id": "5bc8f601974261f1",
   "metadata": {
    "ExecuteTime": {
     "end_time": "2025-02-26T11:47:59.695891Z",
     "start_time": "2025-02-26T11:47:59.687643Z"
    }
   },
   "outputs": [],
   "source": [
    "import sys\n",
    "sys.path.append('./detr') \n",
    "\n",
    "from PIL import Image\n",
    "import os\n",
    "import numpy as np\n",
    "import torch\n",
    "import torch.utils.data\n",
    "import torchvision\n",
    "from torchvision.models.detection.faster_rcnn import FastRCNNPredictor\n",
    "from torchvision import transforms as T\n",
    "import json\n",
    "import shutil"
   ]
  },
  {
   "cell_type": "code",
   "execution_count": 3,
   "id": "361d5da9cc428838",
   "metadata": {
    "ExecuteTime": {
     "end_time": "2025-02-26T11:47:59.701854Z",
     "start_time": "2025-02-26T11:47:59.699742Z"
    }
   },
   "outputs": [],
   "source": [
    "epochs = 5\n",
    "num_classes = 2\n",
    "data_dir1 = \"./data/just_car/\"\n",
    "data_dir2 = \"./data/car_trees/\"\n",
    "output_file = \"model/model.pth\"\n",
    "device = torch.device('cuda')"
   ]
  },
  {
   "cell_type": "code",
   "execution_count": 4,
   "id": "eb93eed521b0f2b1",
   "metadata": {
    "ExecuteTime": {
     "end_time": "2025-02-26T11:47:59.726297Z",
     "start_time": "2025-02-26T11:47:59.715747Z"
    }
   },
   "outputs": [],
   "source": [
    "class CarDataset(torch.utils.data.Dataset):\n",
    "    def __init__(self, root, transforms):\n",
    "        \"\"\"\n",
    "        Initialize the CarDataset.\n",
    "        Args:\n",
    "            root (str): Root directory containing the dataset files\n",
    "            transforms: Transforms to be applied to the images\n",
    "        \"\"\"\n",
    "        self.root = root\n",
    "        self.transforms = transforms\n",
    "\n",
    "        # Get all PNG files in the folder\n",
    "        self.imgs = sorted([f for f in os.listdir(root) if f.endswith('.png')])\n",
    "\n",
    "        # For each image, get corresponding .npy and .json files\n",
    "        self.npy_files = []\n",
    "        self.json_files = []\n",
    "\n",
    "        for png_file in self.imgs:\n",
    "            # Extract the index from the filename (e.g. rgb_0000.png -> 0000)\n",
    "            idx = png_file.replace('rgb_', '').replace('.png', '')\n",
    "\n",
    "            # Construct corresponding .npy and .json filenames\n",
    "            npy_name = f\"bounding_box_2d_tight_{idx}.npy\"\n",
    "            json_name = f\"bounding_box_2d_tight_labels_{idx}.json\"\n",
    "\n",
    "            self.npy_files.append(npy_name)\n",
    "            self.json_files.append(json_name)\n",
    "\n",
    "    def __getitem__(self, idx):\n",
    "        \"\"\"\n",
    "        Get a single item from the dataset.\n",
    "        Args:\n",
    "            idx (int): Index of the item to get\n",
    "        Returns:\n",
    "            tuple: (image, target) where target is a dictionary containing:\n",
    "                  - boxes (Tensor): Bounding boxes in [x_min, y_min, x_max, y_max] format\n",
    "                  - labels (Tensor): Class labels for each box\n",
    "                  - image_id (Tensor): Image index\n",
    "                  - area (Tensor): Area of each box\n",
    "        \"\"\"\n",
    "        # Load image\n",
    "        img_path = os.path.join(self.root, self.imgs[idx])\n",
    "        img = Image.open(img_path).convert(\"RGB\")\n",
    "\n",
    "        # Load bounding boxes\n",
    "        npy_path = os.path.join(self.root, self.npy_files[idx])\n",
    "        bboxes = np.load(npy_path)  # shape: (N, 5) => [object_id, x_min, y_min, x_max, y_max]\n",
    "\n",
    "        # Load labels\n",
    "        json_path = os.path.join(self.root, self.json_files[idx])\n",
    "        with open(json_path, 'r') as f:\n",
    "            label_dict = json.load(f)\n",
    "\n",
    "        # Parse bounding boxes & labels\n",
    "        boxes = []\n",
    "        labels = []\n",
    "\n",
    "        for box in bboxes:\n",
    "            obj_id = int(box[0])\n",
    "            x_min = float(box[1])\n",
    "            y_min = float(box[2])\n",
    "            x_max = float(box[3])\n",
    "            y_max = float(box[4])\n",
    "\n",
    "            # Skip invalid boxes\n",
    "            if x_max <= x_min or y_max <= y_min:\n",
    "                continue\n",
    "\n",
    "            obj_class_name = label_dict.get(str(obj_id), {}).get(\"class\", \"unknown\")\n",
    "\n",
    "            # Only process ground and cars classes\n",
    "            if obj_class_name == \"ground\":\n",
    "                class_label = 0\n",
    "                boxes.append([x_min, y_min, x_max, y_max])\n",
    "                labels.append(class_label)\n",
    "            elif obj_class_name == \"cars\":\n",
    "                class_label = 1\n",
    "                boxes.append([x_min, y_min, x_max, y_max])\n",
    "                labels.append(class_label)\n",
    "\n",
    "        # Convert to torch tensors\n",
    "        boxes = torch.as_tensor(boxes, dtype=torch.float32)\n",
    "        labels = torch.as_tensor(labels, dtype=torch.int64)\n",
    "\n",
    "        # Calculate areas\n",
    "        areas = (boxes[:, 3] - boxes[:, 1]) * (boxes[:, 2] - boxes[:, 0])\n",
    "\n",
    "        # Handle empty case\n",
    "        if len(boxes) == 0:\n",
    "            boxes = torch.zeros((0, 4), dtype=torch.float32)\n",
    "            labels = torch.zeros((0,), dtype=torch.int64)\n",
    "            areas = torch.zeros((0,), dtype=torch.float32)\n",
    "\n",
    "        target = {\n",
    "            \"boxes\": boxes,\n",
    "            \"labels\": labels,\n",
    "            \"image_id\": torch.tensor([idx]),\n",
    "            \"area\": areas\n",
    "        }\n",
    "\n",
    "        if self.transforms is not None:\n",
    "            img = self.transforms(img)\n",
    "\n",
    "        return img, target\n",
    "\n",
    "    def __len__(self):\n",
    "        \"\"\"\n",
    "        Get the total number of items in the dataset.\n",
    "        Returns:\n",
    "            int: Number of items in dataset\n",
    "        \"\"\"\n",
    "        return len(self.imgs)"
   ]
  },
  {
   "cell_type": "code",
   "execution_count": 5,
   "id": "2b7346a89ed2981f",
   "metadata": {
    "ExecuteTime": {
     "end_time": "2025-02-26T11:47:59.734173Z",
     "start_time": "2025-02-26T11:47:59.731791Z"
    }
   },
   "outputs": [],
   "source": [
    "def get_transform(train):\n",
    "    \"\"\"\n",
    "    Creates a composition of image transformations to be applied to the dataset.\n",
    "    \n",
    "    Args:\n",
    "        train (bool): Whether the transforms are for training or validation\n",
    "                     (currently not used but kept for future augmentations)\n",
    "    \n",
    "    Returns:\n",
    "        torchvision.transforms.Compose: A composition of transforms that:\n",
    "            1. Converts PIL image to tensor\n",
    "            2. Converts image tensor to float dtype\n",
    "    \"\"\"\n",
    "    transforms = []\n",
    "    transforms.append(T.PILToTensor())\n",
    "    transforms.append(T.ConvertImageDtype(torch.float))\n",
    "    return T.Compose(transforms)"
   ]
  },
  {
   "cell_type": "code",
   "execution_count": 6,
   "id": "312edec9cc02fd97",
   "metadata": {
    "ExecuteTime": {
     "end_time": "2025-02-26T11:47:59.747639Z",
     "start_time": "2025-02-26T11:47:59.745446Z"
    }
   },
   "outputs": [],
   "source": [
    "def collate_fn(batch):\n",
    "    \"\"\"\n",
    "    Custom collate function for DataLoader that unpacks batches.\n",
    "    \n",
    "    Args:\n",
    "        batch: List of tuples (image, target) from dataset\n",
    "        \n",
    "    Returns:\n",
    "        tuple: Contains two lists - one with images and one with targets\n",
    "    \"\"\"\n",
    "    return tuple(zip(*batch))"
   ]
  },
  {
   "cell_type": "code",
   "execution_count": 7,
   "id": "4784c806f7d56d17",
   "metadata": {
    "ExecuteTime": {
     "end_time": "2025-02-26T11:47:59.758533Z",
     "start_time": "2025-02-26T11:47:59.755289Z"
    }
   },
   "outputs": [],
   "source": [
    "def create_model(num_classes):\n",
    "    \"\"\"\n",
    "    Creates and configures a Faster R-CNN model with ResNet-50 backbone for object detection.\n",
    "    \n",
    "    Args:\n",
    "        num_classes (int): Number of classes to detect (including background)\n",
    "        \n",
    "    Returns:\n",
    "        torch.nn.Module: Configured Faster R-CNN model with:\n",
    "            - ResNet-50 backbone pre-trained on ImageNet\n",
    "            - Feature Pyramid Network\n",
    "            - Modified box predictor head for specified number of classes\n",
    "    \"\"\"\n",
    "    model = torchvision.models.detection.fasterrcnn_resnet50_fpn(weights='DEFAULT')\n",
    "    in_features = model.roi_heads.box_predictor.cls_score.in_features\n",
    "    model.roi_heads.box_predictor = FastRCNNPredictor(in_features, num_classes)\n",
    "    return model"
   ]
  },
  {
   "cell_type": "code",
   "execution_count": 8,
   "id": "e55171b989924a6e",
   "metadata": {
    "ExecuteTime": {
     "end_time": "2025-02-26T11:47:59.809257Z",
     "start_time": "2025-02-26T11:47:59.773512Z"
    }
   },
   "outputs": [
    {
     "ename": "FileNotFoundError",
     "evalue": "[Errno 2] No such file or directory: './data/just_car/'",
     "output_type": "error",
     "traceback": [
      "\u001b[0;31m---------------------------------------------------------------------------\u001b[0m",
      "\u001b[0;31mFileNotFoundError\u001b[0m                         Traceback (most recent call last)",
      "Cell \u001b[0;32mIn[8], line 1\u001b[0m\n\u001b[0;32m----> 1\u001b[0m dataset1 \u001b[38;5;241m=\u001b[39m \u001b[43mCarDataset\u001b[49m\u001b[43m(\u001b[49m\u001b[43mdata_dir1\u001b[49m\u001b[43m,\u001b[49m\u001b[43m \u001b[49m\u001b[43mget_transform\u001b[49m\u001b[43m(\u001b[49m\u001b[43mtrain\u001b[49m\u001b[38;5;241;43m=\u001b[39;49m\u001b[38;5;28;43;01mTrue\u001b[39;49;00m\u001b[43m)\u001b[49m\u001b[43m)\u001b[49m\n\u001b[1;32m      2\u001b[0m dataset2 \u001b[38;5;241m=\u001b[39m CarDataset(data_dir2, get_transform(train\u001b[38;5;241m=\u001b[39m\u001b[38;5;28;01mTrue\u001b[39;00m))\n\u001b[1;32m      4\u001b[0m data_loader1 \u001b[38;5;241m=\u001b[39m torch\u001b[38;5;241m.\u001b[39mutils\u001b[38;5;241m.\u001b[39mdata\u001b[38;5;241m.\u001b[39mDataLoader(\n\u001b[1;32m      5\u001b[0m     dataset1, batch_size\u001b[38;5;241m=\u001b[39m\u001b[38;5;241m4\u001b[39m, shuffle\u001b[38;5;241m=\u001b[39m\u001b[38;5;28;01mTrue\u001b[39;00m, collate_fn\u001b[38;5;241m=\u001b[39mcollate_fn)\n",
      "Cell \u001b[0;32mIn[4], line 7\u001b[0m, in \u001b[0;36mCarDataset.__init__\u001b[0;34m(self, root, transforms)\u001b[0m\n\u001b[1;32m      4\u001b[0m \u001b[38;5;28mself\u001b[39m\u001b[38;5;241m.\u001b[39mtransforms \u001b[38;5;241m=\u001b[39m transforms\n\u001b[1;32m      6\u001b[0m \u001b[38;5;66;03m# Get all PNG files in the folder\u001b[39;00m\n\u001b[0;32m----> 7\u001b[0m \u001b[38;5;28mself\u001b[39m\u001b[38;5;241m.\u001b[39mimgs \u001b[38;5;241m=\u001b[39m \u001b[38;5;28msorted\u001b[39m([f \u001b[38;5;28;01mfor\u001b[39;00m f \u001b[38;5;129;01min\u001b[39;00m \u001b[43mos\u001b[49m\u001b[38;5;241;43m.\u001b[39;49m\u001b[43mlistdir\u001b[49m\u001b[43m(\u001b[49m\u001b[43mroot\u001b[49m\u001b[43m)\u001b[49m \u001b[38;5;28;01mif\u001b[39;00m f\u001b[38;5;241m.\u001b[39mendswith(\u001b[38;5;124m'\u001b[39m\u001b[38;5;124m.png\u001b[39m\u001b[38;5;124m'\u001b[39m)])\n\u001b[1;32m      9\u001b[0m \u001b[38;5;66;03m# For each image, get corresponding .npy and .json files\u001b[39;00m\n\u001b[1;32m     10\u001b[0m \u001b[38;5;28mself\u001b[39m\u001b[38;5;241m.\u001b[39mnpy_files \u001b[38;5;241m=\u001b[39m []\n",
      "\u001b[0;31mFileNotFoundError\u001b[0m: [Errno 2] No such file or directory: './data/just_car/'"
     ]
    }
   ],
   "source": [
    "# Create datasets from the two data directories using the transform function\n",
    "dataset1 = CarDataset(data_dir1, get_transform(train=True))\n",
    "dataset2 = CarDataset(data_dir2, get_transform(train=True))\n",
    "\n",
    "# Create data loaders with batch size 4, shuffling enabled, and custom collate function\n",
    "data_loader1 = torch.utils.data.DataLoader(\n",
    "    dataset1, batch_size=4, shuffle=True, collate_fn=collate_fn)\n",
    "data_loader2 = torch.utils.data.DataLoader(\n",
    "    dataset2, batch_size=4, shuffle=True, collate_fn=collate_fn)"
   ]
  },
  {
   "cell_type": "code",
   "execution_count": null,
   "id": "43e0861feb63a3c5",
   "metadata": {},
   "outputs": [],
   "source": [
    "# Create model and move it to the specified device (CPU/GPU)\n",
    "model = create_model(num_classes)\n",
    "model.to(device)\n",
    "\n",
    "# Get trainable parameters and create SGD optimizer with learning rate 0.001 and momentum 0.9\n",
    "params = [p for p in model.parameters() if p.requires_grad]\n",
    "optimizer = torch.optim.SGD(params, lr=0.001, momentum=0.9)"
   ]
  },
  {
   "cell_type": "code",
   "execution_count": null,
   "id": "fe3a25e8ecf58269",
   "metadata": {},
   "outputs": [],
   "source": [
    "# Set model to training mode\n",
    "model.train()\n",
    "for epoch in range(epochs):\n",
    "    # Use dataset1 for epochs 1 and 2; use dataset2 for epochs 3 and 4 (and beyond if needed)\n",
    "    if epoch < 2:\n",
    "        current_loader = data_loader1\n",
    "        print(f\"Epoch [{epoch+1}/{epochs}]: Using dataset1\")\n",
    "    else:\n",
    "        current_loader = data_loader2\n",
    "        print(f\"Epoch [{epoch+1}/{epochs}]: Using dataset2\")\n",
    "\n",
    "    # Get total number of batches in current dataloader\n",
    "    len_dataloader = len(current_loader)\n",
    "    \n",
    "    # Iterate through batches of data\n",
    "    for i, (imgs, annotations) in enumerate(current_loader):\n",
    "        # Move images and annotations to device (CPU/GPU)\n",
    "        imgs = list(img.to(device) for img in imgs)\n",
    "        annotations = [{k: v.to(device) for k, v in t.items()} for t in annotations]\n",
    "        \n",
    "        # Zero the parameter gradients\n",
    "        optimizer.zero_grad()\n",
    "        \n",
    "        # Forward pass - get loss dictionary from model\n",
    "        loss_dict = model(imgs, annotations)\n",
    "        \n",
    "        # Calculate total loss by summing all losses\n",
    "        losses = sum(loss for loss in loss_dict.values())\n",
    "        \n",
    "        # Backward pass and optimize\n",
    "        losses.backward()\n",
    "        optimizer.step()\n",
    "        \n",
    "        # Print progress every 5 batches\n",
    "        if (i+1) % 5 == 0:\n",
    "            print(f\"  Batch [{i+1}/{len_dataloader}], Loss: {losses.item():.4f}\")"
   ]
  },
  {
   "cell_type": "code",
   "execution_count": null,
   "id": "ef267c674208b279",
   "metadata": {},
   "outputs": [],
   "source": [
    "torch.save(model, output_file)"
   ]
  }
 ],
 "metadata": {
  "kernelspec": {
   "display_name": "Python 3",
   "language": "python",
   "name": "python3"
  },
  "language_info": {
   "codemirror_mode": {
    "name": "ipython",
    "version": 2
   },
   "file_extension": ".py",
   "mimetype": "text/x-python",
   "name": "python",
   "nbconvert_exporter": "python",
   "pygments_lexer": "ipython2",
   "version": "2.7.6"
  }
 },
 "nbformat": 4,
 "nbformat_minor": 5
}
